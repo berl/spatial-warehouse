{
 "cells": [
  {
   "cell_type": "markdown",
   "metadata": {},
   "source": [
    "# This notebook demonstrates simple visualizations of the output format data"
   ]
  },
  {
   "cell_type": "markdown",
   "metadata": {},
   "source": [
    "It is a work in progress. "
   ]
  },
  {
   "cell_type": "code",
   "execution_count": 33,
   "metadata": {},
   "outputs": [],
   "source": [
    "%gui qt5"
   ]
  },
  {
   "cell_type": "code",
   "execution_count": 1,
   "metadata": {},
   "outputs": [],
   "source": [
    "%matplotlib inline"
   ]
  },
  {
   "cell_type": "code",
   "execution_count": 3,
   "metadata": {},
   "outputs": [
    {
     "name": "stderr",
     "output_type": "stream",
     "text": [
      "/usr/local/lib/python3.7/site-packages/napari/__init__.py:27: UserWarning: \n",
      "    napari was tested with QT library `>=5.12.3`.\n",
      "    The version installed is 5.12.2. Please report any issues with this\n",
      "    specific QT version at https://github.com/Napari/napari/issues.\n",
      "    \n",
      "  warn(message=warn_message)\n"
     ]
    }
   ],
   "source": [
    "import sys\n",
    "import starspace\n",
    "import napari\n",
    "import numpy as np\n",
    "import itertools"
   ]
  },
  {
   "cell_type": "code",
   "execution_count": 4,
   "metadata": {
    "collapsed": true
   },
   "outputs": [
    {
     "name": "stdout",
     "output_type": "stream",
     "text": [
      "Obtaining file:///Users/ajc/projects/chanzuckerberg/spatial-warehouse\n",
      "Requirement already satisfied: scanpy in /usr/local/lib/python3.7/site-packages (from starspace==0.0.1) (1.4.3)\n",
      "Requirement already satisfied: scipy in /usr/local/lib/python3.7/site-packages (from starspace==0.0.1) (1.3.0)\n",
      "Requirement already satisfied: scikit-image in /usr/local/lib/python3.7/site-packages (from starspace==0.0.1) (0.15.0)\n",
      "Requirement already satisfied: numpy in /usr/local/lib/python3.7/site-packages (from starspace==0.0.1) (1.16.3)\n",
      "Requirement already satisfied: h5py in /usr/local/lib/python3.7/site-packages (from starspace==0.0.1) (2.9.0)\n",
      "Requirement already satisfied: pandas in /usr/local/lib/python3.7/site-packages (from starspace==0.0.1) (0.24.2)\n",
      "Requirement already satisfied: loompy in /usr/local/lib/python3.7/site-packages (from starspace==0.0.1) (3.0.1)\n",
      "Requirement already satisfied: numpy_groupies in /usr/local/lib/python3.7/site-packages (from starspace==0.0.1) (0+unknown)\n",
      "Requirement already satisfied: anndata in /usr/local/lib/python3.7/site-packages (from starspace==0.0.1) (0.6.20)\n",
      "Requirement already satisfied: napari in /usr/local/lib/python3.7/site-packages (from starspace==0.0.1) (0.2.0)\n",
      "Requirement already satisfied: jupyterlab in /usr/local/lib/python3.7/site-packages (from starspace==0.0.1) (0.35.6)\n",
      "Requirement already satisfied: ipykernel in /usr/local/lib/python3.7/site-packages (from starspace==0.0.1) (5.1.1)\n",
      "Requirement already satisfied: xlrd in /usr/local/lib/python3.7/site-packages (from starspace==0.0.1) (1.2.0)\n",
      "Requirement already satisfied: xarray in /usr/local/lib/python3.7/site-packages (from starspace==0.0.1) (0.13.0)\n",
      "Requirement already satisfied: zarr in /usr/local/lib/python3.7/site-packages (from starspace==0.0.1) (2.3.2)\n",
      "Requirement already satisfied: dask[array,dataframe] in /usr/local/lib/python3.7/site-packages (from starspace==0.0.1) (2.5.0)\n",
      "Requirement already satisfied: s3fs in /usr/local/lib/python3.7/site-packages (from starspace==0.0.1) (0.2.2)\n",
      "Collecting PyQt5>=5.12.3 (from starspace==0.0.1)\n",
      "\u001b[?25l  Downloading https://files.pythonhosted.org/packages/99/72/33de63d443df4fc0c81f83bf573025823b773ef0ba81ea43b89aff3cd626/PyQt5-5.13.1-5.13.1-cp35.cp36.cp37.cp38-abi3-macosx_10_6_intel.whl (37.4MB)\n",
      "\u001b[K    100% |████████████████████████████████| 37.4MB 846kB/s eta 0:00:01    74% |████████████████████████        | 28.0MB 45.6MB/s eta 0:00:01\n",
      "\u001b[?25hRequirement already satisfied: numba>=0.41.0 in /usr/local/lib/python3.7/site-packages (from scanpy->starspace==0.0.1) (0.44.0)\n",
      "Requirement already satisfied: tables in /usr/local/lib/python3.7/site-packages (from scanpy->starspace==0.0.1) (3.5.1)\n",
      "Requirement already satisfied: umap-learn>=0.3.0 in /usr/local/lib/python3.7/site-packages (from scanpy->starspace==0.0.1) (0.3.9)\n",
      "Requirement already satisfied: tqdm in /usr/local/lib/python3.7/site-packages (from scanpy->starspace==0.0.1) (4.32.1)\n",
      "Requirement already satisfied: matplotlib>=3.0.0 in /usr/local/lib/python3.7/site-packages (from scanpy->starspace==0.0.1) (3.1.0)\n",
      "Requirement already satisfied: seaborn in /usr/local/lib/python3.7/site-packages (from scanpy->starspace==0.0.1) (0.9.0)\n",
      "Requirement already satisfied: patsy in /usr/local/lib/python3.7/site-packages (from scanpy->starspace==0.0.1) (0.5.1)\n",
      "Requirement already satisfied: scikit-learn>=0.19.1 in /usr/local/lib/python3.7/site-packages (from scanpy->starspace==0.0.1) (0.21.2)\n",
      "Requirement already satisfied: natsort in /usr/local/lib/python3.7/site-packages (from scanpy->starspace==0.0.1) (6.0.0)\n",
      "Requirement already satisfied: networkx in /usr/local/lib/python3.7/site-packages (from scanpy->starspace==0.0.1) (2.3)\n",
      "Requirement already satisfied: joblib in /usr/local/lib/python3.7/site-packages (from scanpy->starspace==0.0.1) (0.13.2)\n",
      "Requirement already satisfied: statsmodels in /usr/local/lib/python3.7/site-packages (from scanpy->starspace==0.0.1) (0.9.0)\n",
      "Requirement already satisfied: pillow>=4.3.0 in /usr/local/lib/python3.7/site-packages (from scikit-image->starspace==0.0.1) (6.1.0)\n",
      "Requirement already satisfied: imageio>=2.0.1 in /usr/local/lib/python3.7/site-packages (from scikit-image->starspace==0.0.1) (2.5.0)\n",
      "Requirement already satisfied: PyWavelets>=0.4.0 in /usr/local/lib/python3.7/site-packages (from scikit-image->starspace==0.0.1) (1.0.3)\n",
      "Requirement already satisfied: six in /usr/local/lib/python3.7/site-packages (from h5py->starspace==0.0.1) (1.12.0)\n",
      "Requirement already satisfied: pytz>=2011k in /usr/local/lib/python3.7/site-packages (from pandas->starspace==0.0.1) (2019.1)\n",
      "Requirement already satisfied: python-dateutil>=2.5.0 in /usr/local/lib/python3.7/site-packages (from pandas->starspace==0.0.1) (2.8.0)\n",
      "Requirement already satisfied: setuptools in /usr/local/lib/python3.7/site-packages (from loompy->starspace==0.0.1) (40.8.0)\n",
      "Requirement already satisfied: click in /usr/local/lib/python3.7/site-packages (from loompy->starspace==0.0.1) (7.0)\n",
      "Requirement already satisfied: qtpy>=1.7.0 in /usr/local/lib/python3.7/site-packages (from napari->starspace==0.0.1) (1.9.0)\n",
      "Requirement already satisfied: PyOpenGL>=3.1.0 in /usr/local/lib/python3.7/site-packages (from napari->starspace==0.0.1) (3.1.0)\n",
      "Requirement already satisfied: qtconsole>=4.5.1 in /usr/local/lib/python3.7/site-packages (from napari->starspace==0.0.1) (4.5.5)\n",
      "Requirement already satisfied: PySide2>=5.12.3 in /usr/local/lib/python3.7/site-packages (from napari->starspace==0.0.1) (5.13.1)\n",
      "Requirement already satisfied: vispy>=0.6.1 in /usr/local/lib/python3.7/site-packages (from napari->starspace==0.0.1) (0.6.1)\n",
      "Requirement already satisfied: IPython>=7.7.0 in /usr/local/lib/python3.7/site-packages (from napari->starspace==0.0.1) (7.8.0)\n",
      "Requirement already satisfied: notebook>=4.3.1 in /usr/local/lib/python3.7/site-packages (from jupyterlab->starspace==0.0.1) (5.7.8)\n",
      "Requirement already satisfied: jupyterlab-server<0.3.0,>=0.2.0 in /usr/local/lib/python3.7/site-packages (from jupyterlab->starspace==0.0.1) (0.2.0)\n",
      "Requirement already satisfied: jupyter-client in /usr/local/lib/python3.7/site-packages (from ipykernel->starspace==0.0.1) (5.2.4)\n",
      "Requirement already satisfied: traitlets>=4.1.0 in /usr/local/lib/python3.7/site-packages (from ipykernel->starspace==0.0.1) (4.3.2)\n",
      "Requirement already satisfied: tornado>=4.2 in /usr/local/lib/python3.7/site-packages (from ipykernel->starspace==0.0.1) (6.0.2)\n",
      "Requirement already satisfied: asciitree in /usr/local/lib/python3.7/site-packages (from zarr->starspace==0.0.1) (0.3.3)\n",
      "Requirement already satisfied: fasteners in /usr/local/lib/python3.7/site-packages (from zarr->starspace==0.0.1) (0.15)\n",
      "Requirement already satisfied: numcodecs>=0.6.2 in /usr/local/lib/python3.7/site-packages (from zarr->starspace==0.0.1) (0.6.3)\n",
      "Requirement already satisfied: toolz>=0.7.3; extra == \"array\" in /usr/local/lib/python3.7/site-packages (from dask[array,dataframe]->starspace==0.0.1) (0.10.0)\n",
      "Requirement already satisfied: fsspec>=0.5.1; extra == \"dataframe\" in /usr/local/lib/python3.7/site-packages (from dask[array,dataframe]->starspace==0.0.1) (0.5.1)\n",
      "Requirement already satisfied: cloudpickle>=0.2.1; extra == \"dataframe\" in /usr/local/lib/python3.7/site-packages (from dask[array,dataframe]->starspace==0.0.1) (1.2.2)\n",
      "Requirement already satisfied: partd>=0.3.10; extra == \"dataframe\" in /usr/local/lib/python3.7/site-packages (from dask[array,dataframe]->starspace==0.0.1) (1.0.0)\n",
      "Requirement already satisfied: botocore>=1.12.91 in /usr/local/lib/python3.7/site-packages (from s3fs->starspace==0.0.1) (1.12.132)\n",
      "Requirement already satisfied: boto3>=1.9.91 in /usr/local/lib/python3.7/site-packages (from s3fs->starspace==0.0.1) (1.9.239)\n",
      "Collecting PyQt5_sip<13,>=4.19.19 (from PyQt5>=5.12.3->starspace==0.0.1)\n",
      "\u001b[?25l  Downloading https://files.pythonhosted.org/packages/bf/f5/d1dbebdc5f508c04141e19bc2fdbe9efbd2c0c660c384052f84778a815fd/PyQt5_sip-4.19.19-cp37-cp37m-macosx_10_6_intel.whl (52kB)\n",
      "\u001b[K    100% |████████████████████████████████| 61kB 13.6MB/s ta 0:00:01\n",
      "\u001b[?25hRequirement already satisfied: llvmlite>=0.29.0 in /usr/local/lib/python3.7/site-packages (from numba>=0.41.0->scanpy->starspace==0.0.1) (0.29.0)\n",
      "Requirement already satisfied: numexpr>=2.6.2 in /usr/local/lib/python3.7/site-packages (from tables->scanpy->starspace==0.0.1) (2.6.9)\n",
      "Requirement already satisfied: mock>=2.0 in /usr/local/lib/python3.7/site-packages (from tables->scanpy->starspace==0.0.1) (3.0.5)\n",
      "Requirement already satisfied: kiwisolver>=1.0.1 in /usr/local/lib/python3.7/site-packages (from matplotlib>=3.0.0->scanpy->starspace==0.0.1) (1.1.0)\n"
     ]
    },
    {
     "name": "stdout",
     "output_type": "stream",
     "text": [
      "Requirement already satisfied: pyparsing!=2.0.4,!=2.1.2,!=2.1.6,>=2.0.1 in /usr/local/lib/python3.7/site-packages (from matplotlib>=3.0.0->scanpy->starspace==0.0.1) (2.4.0)\n",
      "Requirement already satisfied: cycler>=0.10 in /usr/local/lib/python3.7/site-packages (from matplotlib>=3.0.0->scanpy->starspace==0.0.1) (0.10.0)\n",
      "Requirement already satisfied: decorator>=4.3.0 in /usr/local/lib/python3.7/site-packages (from networkx->scanpy->starspace==0.0.1) (4.4.0)\n",
      "Requirement already satisfied: jupyter-core in /usr/local/lib/python3.7/site-packages (from qtconsole>=4.5.1->napari->starspace==0.0.1) (4.4.0)\n",
      "Requirement already satisfied: pygments in /usr/local/lib/python3.7/site-packages (from qtconsole>=4.5.1->napari->starspace==0.0.1) (2.4.2)\n",
      "Requirement already satisfied: ipython-genutils in /usr/local/lib/python3.7/site-packages (from qtconsole>=4.5.1->napari->starspace==0.0.1) (0.2.0)\n",
      "Requirement already satisfied: shiboken2==5.13.1 in /usr/local/lib/python3.7/site-packages (from PySide2>=5.12.3->napari->starspace==0.0.1) (5.13.1)\n",
      "Requirement already satisfied: freetype-py in /usr/local/lib/python3.7/site-packages (from vispy>=0.6.1->napari->starspace==0.0.1) (2.1.0.post1)\n",
      "Requirement already satisfied: pexpect; sys_platform != \"win32\" in /usr/local/lib/python3.7/site-packages (from IPython>=7.7.0->napari->starspace==0.0.1) (4.7.0)\n",
      "Requirement already satisfied: jedi>=0.10 in /usr/local/lib/python3.7/site-packages (from IPython>=7.7.0->napari->starspace==0.0.1) (0.13.3)\n",
      "Requirement already satisfied: pickleshare in /usr/local/lib/python3.7/site-packages (from IPython>=7.7.0->napari->starspace==0.0.1) (0.7.5)\n",
      "Requirement already satisfied: prompt-toolkit<2.1.0,>=2.0.0 in /usr/local/lib/python3.7/site-packages (from IPython>=7.7.0->napari->starspace==0.0.1) (2.0.9)\n",
      "Requirement already satisfied: appnope; sys_platform == \"darwin\" in /usr/local/lib/python3.7/site-packages (from IPython>=7.7.0->napari->starspace==0.0.1) (0.1.0)\n",
      "Requirement already satisfied: backcall in /usr/local/lib/python3.7/site-packages (from IPython>=7.7.0->napari->starspace==0.0.1) (0.1.0)\n",
      "Requirement already satisfied: Send2Trash in /usr/local/lib/python3.7/site-packages (from notebook>=4.3.1->jupyterlab->starspace==0.0.1) (1.5.0)\n",
      "Requirement already satisfied: jinja2 in /usr/local/lib/python3.7/site-packages (from notebook>=4.3.1->jupyterlab->starspace==0.0.1) (2.10.1)\n",
      "Requirement already satisfied: pyzmq>=17 in /usr/local/lib/python3.7/site-packages (from notebook>=4.3.1->jupyterlab->starspace==0.0.1) (18.0.1)\n",
      "Requirement already satisfied: terminado>=0.8.1 in /usr/local/lib/python3.7/site-packages (from notebook>=4.3.1->jupyterlab->starspace==0.0.1) (0.8.2)\n",
      "Requirement already satisfied: nbconvert in /usr/local/lib/python3.7/site-packages (from notebook>=4.3.1->jupyterlab->starspace==0.0.1) (5.5.0)\n",
      "Requirement already satisfied: nbformat in /usr/local/lib/python3.7/site-packages (from notebook>=4.3.1->jupyterlab->starspace==0.0.1) (4.4.0)\n",
      "Requirement already satisfied: prometheus-client in /usr/local/lib/python3.7/site-packages (from notebook>=4.3.1->jupyterlab->starspace==0.0.1) (0.6.0)\n",
      "Requirement already satisfied: jsonschema>=2.6.0 in /usr/local/lib/python3.7/site-packages (from jupyterlab-server<0.3.0,>=0.2.0->jupyterlab->starspace==0.0.1) (3.0.1)\n",
      "Requirement already satisfied: monotonic>=0.1 in /usr/local/lib/python3.7/site-packages (from fasteners->zarr->starspace==0.0.1) (1.5)\n",
      "Requirement already satisfied: locket in /usr/local/lib/python3.7/site-packages (from partd>=0.3.10; extra == \"dataframe\"->dask[array,dataframe]->starspace==0.0.1) (0.2.0)\n",
      "Requirement already satisfied: docutils>=0.10 in /usr/local/lib/python3.7/site-packages (from botocore>=1.12.91->s3fs->starspace==0.0.1) (0.14)\n",
      "Requirement already satisfied: jmespath<1.0.0,>=0.7.1 in /usr/local/lib/python3.7/site-packages (from botocore>=1.12.91->s3fs->starspace==0.0.1) (0.9.4)\n",
      "Requirement already satisfied: urllib3<1.25,>=1.20; python_version >= \"3.4\" in /usr/local/lib/python3.7/site-packages (from botocore>=1.12.91->s3fs->starspace==0.0.1) (1.24.2)\n",
      "Requirement already satisfied: s3transfer<0.3.0,>=0.2.0 in /usr/local/lib/python3.7/site-packages (from boto3>=1.9.91->s3fs->starspace==0.0.1) (0.2.0)\n",
      "Requirement already satisfied: ptyprocess>=0.5 in /usr/local/lib/python3.7/site-packages (from pexpect; sys_platform != \"win32\"->IPython>=7.7.0->napari->starspace==0.0.1) (0.6.0)\n",
      "Requirement already satisfied: parso>=0.3.0 in /usr/local/lib/python3.7/site-packages (from jedi>=0.10->IPython>=7.7.0->napari->starspace==0.0.1) (0.4.0)\n",
      "Requirement already satisfied: wcwidth in /usr/local/lib/python3.7/site-packages (from prompt-toolkit<2.1.0,>=2.0.0->IPython>=7.7.0->napari->starspace==0.0.1) (0.1.7)\n",
      "Requirement already satisfied: MarkupSafe>=0.23 in /usr/local/lib/python3.7/site-packages (from jinja2->notebook>=4.3.1->jupyterlab->starspace==0.0.1) (1.1.1)\n",
      "Requirement already satisfied: testpath in /usr/local/lib/python3.7/site-packages (from nbconvert->notebook>=4.3.1->jupyterlab->starspace==0.0.1) (0.4.2)\n",
      "Requirement already satisfied: entrypoints>=0.2.2 in /usr/local/lib/python3.7/site-packages (from nbconvert->notebook>=4.3.1->jupyterlab->starspace==0.0.1) (0.3)\n",
      "Requirement already satisfied: pandocfilters>=1.4.1 in /usr/local/lib/python3.7/site-packages (from nbconvert->notebook>=4.3.1->jupyterlab->starspace==0.0.1) (1.4.2)\n",
      "Requirement already satisfied: defusedxml in /usr/local/lib/python3.7/site-packages (from nbconvert->notebook>=4.3.1->jupyterlab->starspace==0.0.1) (0.6.0)\n",
      "Requirement already satisfied: mistune>=0.8.1 in /usr/local/lib/python3.7/site-packages (from nbconvert->notebook>=4.3.1->jupyterlab->starspace==0.0.1) (0.8.4)\n",
      "Requirement already satisfied: bleach in /usr/local/lib/python3.7/site-packages (from nbconvert->notebook>=4.3.1->jupyterlab->starspace==0.0.1) (3.1.0)\n",
      "Requirement already satisfied: pyrsistent>=0.14.0 in /usr/local/lib/python3.7/site-packages (from jsonschema>=2.6.0->jupyterlab-server<0.3.0,>=0.2.0->jupyterlab->starspace==0.0.1) (0.15.2)\n",
      "Requirement already satisfied: attrs>=17.4.0 in /usr/local/lib/python3.7/site-packages (from jsonschema>=2.6.0->jupyterlab-server<0.3.0,>=0.2.0->jupyterlab->starspace==0.0.1) (19.1.0)\n",
      "Requirement already satisfied: webencodings in /usr/local/lib/python3.7/site-packages (from bleach->nbconvert->notebook>=4.3.1->jupyterlab->starspace==0.0.1) (0.5.1)\n",
      "Installing collected packages: PyQt5-sip, PyQt5, starspace\n",
      "  Found existing installation: PyQt5-sip 4.19.15\n",
      "    Uninstalling PyQt5-sip-4.19.15:\n",
      "      Successfully uninstalled PyQt5-sip-4.19.15\n",
      "  Found existing installation: PyQt5 5.12.1\n",
      "    Uninstalling PyQt5-5.12.1:\n",
      "      Successfully uninstalled PyQt5-5.12.1\n",
      "  Found existing installation: starspace 0.0.1\n",
      "    Uninstalling starspace-0.0.1:\n",
      "      Successfully uninstalled starspace-0.0.1\n",
      "  Running setup.py develop for starspace\n",
      "Successfully installed PyQt5-5.13.1 PyQt5-sip-4.19.19 starspace\n"
     ]
    }
   ],
   "source": [
    "!{sys.executable} -m pip install -e .."
   ]
  },
  {
   "cell_type": "markdown",
   "metadata": {},
   "source": [
    "## Load osmFISH"
   ]
  },
  {
   "cell_type": "code",
   "execution_count": 15,
   "metadata": {},
   "outputs": [],
   "source": [
    "matrix = starspace.Matrix.load_zarr('../starspace/conversion_examples/osmfish-codeluppi-2018-nat-methods-somatosensory-cortex.matrix.zarr')"
   ]
  },
  {
   "cell_type": "code",
   "execution_count": 13,
   "metadata": {},
   "outputs": [],
   "source": [
    "adata = matrix.to_anndata()"
   ]
  },
  {
   "cell_type": "code",
   "execution_count": 14,
   "metadata": {},
   "outputs": [
    {
     "name": "stderr",
     "output_type": "stream",
     "text": [
      "... storing 'biological_annotation' as categorical\n",
      "... storing 'physical_annotation' as categorical\n",
      "... storing 'channel' as categorical\n"
     ]
    }
   ],
   "source": [
    "adata.write_h5ad('osmFISH_cortex.h5ad')"
   ]
  },
  {
   "cell_type": "markdown",
   "metadata": {},
   "source": [
    "## Look at points in napari"
   ]
  },
  {
   "cell_type": "code",
   "execution_count": 44,
   "metadata": {},
   "outputs": [],
   "source": [
    "viewer = napari.Viewer()"
   ]
  },
  {
   "cell_type": "code",
   "execution_count": 17,
   "metadata": {},
   "outputs": [],
   "source": [
    "spots = starspace.Spots.load_zarr('../starspace/conversion_examples/osmfish-codeluppi-2018-nat-methods-somatosensory-cortex.spots.zarr')"
   ]
  },
  {
   "cell_type": "code",
   "execution_count": 43,
   "metadata": {},
   "outputs": [],
   "source": [
    "data = np.stack([-spots.y_spot, -spots.x_spot], axis=-1)"
   ]
  },
  {
   "cell_type": "markdown",
   "metadata": {},
   "source": [
    "Napari isn't happy showing a quarter million points, but it can show 20k! Nick's gonna fix this."
   ]
  },
  {
   "cell_type": "code",
   "execution_count": 45,
   "metadata": {},
   "outputs": [
    {
     "name": "stdout",
     "output_type": "stream",
     "text": [
      "Acta2 cyan\n",
      "Aldoc yellow\n",
      "Anln magenta\n",
      "Apln red\n",
      "Bmp4 green\n",
      "Cnr1 blue\n",
      "Cpne5 cyan\n",
      "Crh yellow\n",
      "Crhbp magenta\n",
      "Ctps red\n",
      "Flt1 green\n",
      "Foxj1 blue\n",
      "Gad2 cyan\n",
      "Gfap yellow\n",
      "Hexb magenta\n",
      "Itpr2 red\n",
      "Kcnip green\n",
      "Klk6 blue\n",
      "Lamp5 cyan\n",
      "Lum yellow\n",
      "Mfge8 magenta\n",
      "Mrc1 red\n",
      "Pdgfra green\n",
      "Plp1 blue\n",
      "Pthlh cyan\n",
      "Rorb yellow\n",
      "Serpinf1 magenta\n",
      "Slc32a1 red\n",
      "Sox10 green\n",
      "Syt6 blue\n",
      "Tbr1 cyan\n",
      "Tmem6 yellow\n",
      "Ttr magenta\n",
      "Vip red\n",
      "Vtn green\n"
     ]
    }
   ],
   "source": [
    "gene_list = np.unique(spots['gene_name'])\n",
    "base_colormaps = ['cyan', 'yellow', 'magenta', 'red', 'green', 'blue']\n",
    "cycle_colors = itertools.cycle(base_colormaps)\n",
    "\n",
    "# add the spots\n",
    "for g, c in zip(gene_list, cycle_colors):\n",
    "    print(g, c)\n",
    "    inds = spots['gene_name'] == g\n",
    "    # downsample 100x\n",
    "    layer = viewer.add_points(data[inds][:100], face_color=c, edge_width=0, name=g)"
   ]
  },
  {
   "cell_type": "markdown",
   "metadata": {},
   "source": [
    "## Look at cell boundaries in napari"
   ]
  },
  {
   "cell_type": "code",
   "execution_count": 5,
   "metadata": {},
   "outputs": [],
   "source": [
    "regions = starspace.Regions.load_zarr('../starspace/conversion_examples/osmfish-codeluppi-2018-nat-methods-somatosensory-cortex.regions.zarr/')"
   ]
  },
  {
   "cell_type": "code",
   "execution_count": 6,
   "metadata": {},
   "outputs": [
    {
     "data": {
      "text/plain": [
       "<xarray.Regions 'array-baa123768d7ef2a6d2cdfa885e8f3eaa' (x_region: 31725, y_region: 51669)>\n",
       "array([[0, 0, 0, ..., 0, 0, 0],\n",
       "       [0, 0, 0, ..., 0, 0, 0],\n",
       "       [0, 0, 0, ..., 0, 0, 0],\n",
       "       ...,\n",
       "       [0, 0, 0, ..., 0, 0, 0],\n",
       "       [0, 0, 0, ..., 0, 0, 0],\n",
       "       [0, 0, 0, ..., 0, 0, 0]], dtype=int16)\n",
       "Dimensions without coordinates: x_region, y_region\n",
       "Attributes:\n",
       "    assay:             osmFISH\n",
       "    authors:           ['Simone Codeluppi', 'Lars E. Borm', 'Amit Zeisel', 'G...\n",
       "    organism:          mouse\n",
       "    publication_name:  Spatial organization of the somatosensory cortex revea...\n",
       "    publication_url:   https://www.nature.com/articles/s41592-018-0175-z\n",
       "    sample_type:       somatosensory cortex\n",
       "    year:              2018"
      ]
     },
     "execution_count": 6,
     "metadata": {},
     "output_type": "execute_result"
    }
   ],
   "source": [
    "regions"
   ]
  },
  {
   "cell_type": "markdown",
   "metadata": {},
   "source": [
    "There's a bug here, the spots don't overlay properly (they're mirrored around x=y"
   ]
  },
  {
   "cell_type": "code",
   "execution_count": 48,
   "metadata": {},
   "outputs": [
    {
     "name": "stderr",
     "output_type": "stream",
     "text": [
      "/usr/local/lib/python3.7/site-packages/scipy/ndimage/interpolation.py:611: UserWarning: From scipy 0.13.0, the output shape of zoom() is calculated with round() instead of int() - for these inputs the size of the returned array has changed.\n",
      "  \"the returned array has changed.\", UserWarning)\n"
     ]
    },
    {
     "data": {
      "text/plain": [
       "<Labels layer 'Labels' at 0x54b6ff160>"
      ]
     },
     "execution_count": 48,
     "metadata": {},
     "output_type": "execute_result"
    }
   ],
   "source": [
    "viewer = napari.Viewer()\n",
    "viewer.add_labels(regions)"
   ]
  }
 ],
 "metadata": {
  "kernelspec": {
   "display_name": "Python 3",
   "language": "python",
   "name": "python3"
  },
  "language_info": {
   "codemirror_mode": {
    "name": "ipython",
    "version": 3
   },
   "file_extension": ".py",
   "mimetype": "text/x-python",
   "name": "python",
   "nbconvert_exporter": "python",
   "pygments_lexer": "ipython3",
   "version": "3.7.3"
  }
 },
 "nbformat": 4,
 "nbformat_minor": 2
}
